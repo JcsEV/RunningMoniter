{
 "cells": [
  {
   "cell_type": "code",
   "execution_count": 2,
   "metadata": {
    "collapsed": true
   },
   "outputs": [],
   "source": [
    "import os\n",
    "import tempfile\n",
    "\n",
    "import warnings\n",
    "warnings.filterwarnings(\"ignore\", category=FutureWarning)\n",
    "\n",
    "from pulgin.modelLearn import *\n",
    "from pulgin.movenetPoseMark import MoveNetPoseMark\n",
    "from pulgin.movenetClassifier import MoveNetClassifier"
   ]
  },
  {
   "cell_type": "code",
   "execution_count": 3,
   "outputs": [],
   "source": [
    "with open(f'./data/labels.txt', 'r') as label_file:\n",
    "  class_names = list(label_file)\n",
    "\n",
    "poseMark = MoveNetPoseMark(model_path=\"./model/movenet_singlepose_thunder_fp16\")"
   ],
   "metadata": {
    "collapsed": false
   }
  },
  {
   "cell_type": "markdown",
   "source": [
    "# Training部分"
   ],
   "metadata": {
    "collapsed": false
   }
  },
  {
   "cell_type": "code",
   "execution_count": 4,
   "outputs": [],
   "source": [
    "images_ROOT = \"./data/run_data/\"\n",
    "train_folder = os.path.join(images_ROOT, 'train')\n",
    "test_folder = os.path.join(images_ROOT, 'test')\n",
    "images_Temp = tempfile.mkdtemp()\n",
    "csvs_train_path = images_Temp + \"/train_data.csv\"\n",
    "csvs_test_path = images_Temp + \"/test_data.csv\""
   ],
   "metadata": {
    "collapsed": false
   }
  },
  {
   "cell_type": "code",
   "execution_count": 5,
   "outputs": [
    {
     "name": "stderr",
     "output_type": "stream",
     "text": [
      "Preprocessing ForrestGump\n",
      "100%|██████████| 79/79 [00:05<00:00, 13.26it/s]\n",
      "Preprocessing ForwardRun\n",
      "100%|██████████| 109/109 [00:08<00:00, 13.27it/s]\n",
      "Preprocessing GirlRun\n",
      "100%|██████████| 89/89 [00:06<00:00, 13.33it/s]\n",
      "Preprocessing Naruto\n",
      "100%|██████████| 158/158 [00:11<00:00, 13.57it/s]\n",
      "Preprocessing NormalRun\n",
      "100%|██████████| 180/180 [00:13<00:00, 13.30it/s]\n",
      "Preprocessing ShoulderRun\n",
      "100%|██████████| 91/91 [00:06<00:00, 13.28it/s]\n",
      "Preprocessing SitWithRun\n",
      "100%|██████████| 145/145 [00:10<00:00, 13.45it/s]\n",
      "Preprocessing UnswingingArm\n",
      "100%|██████████| 145/145 [00:10<00:00, 13.27it/s]\n",
      "Preprocessing ForrestGump\n",
      "100%|██████████| 23/23 [00:01<00:00, 13.16it/s]\n",
      "Preprocessing ForwardRun\n",
      "100%|██████████| 31/31 [00:02<00:00, 13.43it/s]\n",
      "Preprocessing GirlRun\n",
      "100%|██████████| 26/26 [00:01<00:00, 13.56it/s]\n",
      "Preprocessing Naruto\n",
      "100%|██████████| 45/45 [00:03<00:00, 13.52it/s]\n",
      "Preprocessing NormalRun\n",
      "100%|██████████| 52/52 [00:03<00:00, 13.35it/s]\n",
      "Preprocessing ShoulderRun\n",
      "100%|██████████| 25/25 [00:01<00:00, 13.23it/s]\n",
      "Preprocessing SitWithRun\n",
      "100%|██████████| 42/42 [00:03<00:00, 13.37it/s]\n",
      "Preprocessing UnswingingArm\n",
      "100%|██████████| 42/42 [00:03<00:00, 13.43it/s]\n"
     ]
    }
   ],
   "source": [
    "_, train_pose = poseMark.process(folder=train_folder, csvs_path=csvs_train_path)\n",
    "_, test_pose = poseMark.process(folder=test_folder, csvs_path=csvs_test_path)"
   ],
   "metadata": {
    "collapsed": false
   }
  },
  {
   "cell_type": "code",
   "execution_count": 15,
   "outputs": [],
   "source": [
    "# _, X, y = load_pose_landmarks(csvs_out_train_path)\n",
    "# _, X_test, y_test = load_pose_landmarks(csvs_out_test_path)"
   ],
   "metadata": {
    "collapsed": false
   }
  },
  {
   "cell_type": "code",
   "execution_count": 6,
   "outputs": [],
   "source": [
    "_, X, y = split_pose_landmarks(train_pose)\n",
    "_, X_test, y_test = split_pose_landmarks(test_pose)"
   ],
   "metadata": {
    "collapsed": false
   }
  },
  {
   "cell_type": "code",
   "execution_count": 7,
   "outputs": [
    {
     "name": "stdout",
     "output_type": "stream",
     "text": [
      "Epoch 1/200\n",
      "26/40 [==================>...........] - ETA: 0s - loss: 2.0698 - accuracy: 0.1442     \n",
      "Epoch 1: val_accuracy improved from -inf to 0.19643, saving model to ./model\\weights.best.hdf5\n",
      "40/40 [==============================] - 1s 10ms/step - loss: 2.0703 - accuracy: 0.1521 - val_loss: 2.0486 - val_accuracy: 0.1964\n",
      "Epoch 2/200\n",
      "29/40 [====================>.........] - ETA: 0s - loss: 2.0378 - accuracy: 0.2134\n",
      "Epoch 2: val_accuracy improved from 0.19643 to 0.20536, saving model to ./model\\weights.best.hdf5\n",
      "40/40 [==============================] - 0s 3ms/step - loss: 2.0304 - accuracy: 0.2203 - val_loss: 2.0125 - val_accuracy: 0.2054\n",
      "Epoch 3/200\n",
      "27/40 [===================>..........] - ETA: 0s - loss: 1.9973 - accuracy: 0.2616\n",
      "Epoch 3: val_accuracy improved from 0.20536 to 0.22321, saving model to ./model\\weights.best.hdf5\n",
      "40/40 [==============================] - 0s 3ms/step - loss: 1.9873 - accuracy: 0.2694 - val_loss: 1.9586 - val_accuracy: 0.2232\n",
      "Epoch 4/200\n",
      "26/40 [==================>...........] - ETA: 0s - loss: 1.9414 - accuracy: 0.2909\n",
      "Epoch 4: val_accuracy improved from 0.22321 to 0.33929, saving model to ./model\\weights.best.hdf5\n",
      "40/40 [==============================] - 0s 3ms/step - loss: 1.9194 - accuracy: 0.3011 - val_loss: 1.8713 - val_accuracy: 0.3393\n",
      "Epoch 5/200\n",
      "29/40 [====================>.........] - ETA: 0s - loss: 1.8415 - accuracy: 0.3276\n",
      "Epoch 5: val_accuracy improved from 0.33929 to 0.35714, saving model to ./model\\weights.best.hdf5\n",
      "40/40 [==============================] - 0s 3ms/step - loss: 1.8228 - accuracy: 0.3296 - val_loss: 1.7470 - val_accuracy: 0.3571\n",
      "Epoch 6/200\n",
      "30/40 [=====================>........] - ETA: 0s - loss: 1.7397 - accuracy: 0.4021\n",
      "Epoch 6: val_accuracy improved from 0.35714 to 0.43750, saving model to ./model\\weights.best.hdf5\n",
      "40/40 [==============================] - 0s 3ms/step - loss: 1.7333 - accuracy: 0.3867 - val_loss: 1.6289 - val_accuracy: 0.4375\n",
      "Epoch 7/200\n",
      "28/40 [====================>.........] - ETA: 0s - loss: 1.6471 - accuracy: 0.3795\n",
      "Epoch 7: val_accuracy improved from 0.43750 to 0.48214, saving model to ./model\\weights.best.hdf5\n",
      "40/40 [==============================] - 0s 3ms/step - loss: 1.6529 - accuracy: 0.3867 - val_loss: 1.5299 - val_accuracy: 0.4821\n",
      "Epoch 8/200\n",
      "29/40 [====================>.........] - ETA: 0s - loss: 1.5688 - accuracy: 0.4073\n",
      "Epoch 8: val_accuracy improved from 0.48214 to 0.51786, saving model to ./model\\weights.best.hdf5\n",
      "40/40 [==============================] - 0s 3ms/step - loss: 1.5776 - accuracy: 0.4025 - val_loss: 1.4557 - val_accuracy: 0.5179\n",
      "Epoch 9/200\n",
      "28/40 [====================>.........] - ETA: 0s - loss: 1.5232 - accuracy: 0.4308\n",
      "Epoch 9: val_accuracy improved from 0.51786 to 0.56250, saving model to ./model\\weights.best.hdf5\n",
      "40/40 [==============================] - 0s 3ms/step - loss: 1.5174 - accuracy: 0.4358 - val_loss: 1.3826 - val_accuracy: 0.5625\n",
      "Epoch 10/200\n",
      "28/40 [====================>.........] - ETA: 0s - loss: 1.4781 - accuracy: 0.4330\n",
      "Epoch 10: val_accuracy improved from 0.56250 to 0.58929, saving model to ./model\\weights.best.hdf5\n",
      "40/40 [==============================] - 0s 4ms/step - loss: 1.4598 - accuracy: 0.4532 - val_loss: 1.3066 - val_accuracy: 0.5893\n",
      "Epoch 11/200\n",
      "28/40 [====================>.........] - ETA: 0s - loss: 1.3843 - accuracy: 0.4799\n",
      "Epoch 11: val_accuracy improved from 0.58929 to 0.60714, saving model to ./model\\weights.best.hdf5\n",
      "40/40 [==============================] - 0s 3ms/step - loss: 1.3930 - accuracy: 0.4834 - val_loss: 1.2341 - val_accuracy: 0.6071\n",
      "Epoch 12/200\n",
      "26/40 [==================>...........] - ETA: 0s - loss: 1.3471 - accuracy: 0.4880\n",
      "Epoch 12: val_accuracy improved from 0.60714 to 0.66071, saving model to ./model\\weights.best.hdf5\n",
      "40/40 [==============================] - 0s 4ms/step - loss: 1.3597 - accuracy: 0.4960 - val_loss: 1.1733 - val_accuracy: 0.6607\n",
      "Epoch 13/200\n",
      "27/40 [===================>..........] - ETA: 0s - loss: 1.3169 - accuracy: 0.5093\n",
      "Epoch 13: val_accuracy improved from 0.66071 to 0.67857, saving model to ./model\\weights.best.hdf5\n",
      "40/40 [==============================] - 0s 4ms/step - loss: 1.3130 - accuracy: 0.5024 - val_loss: 1.1093 - val_accuracy: 0.6786\n",
      "Epoch 14/200\n",
      "32/40 [=======================>......] - ETA: 0s - loss: 1.2555 - accuracy: 0.5488\n",
      "Epoch 14: val_accuracy improved from 0.67857 to 0.69643, saving model to ./model\\weights.best.hdf5\n",
      "40/40 [==============================] - 0s 3ms/step - loss: 1.2577 - accuracy: 0.5468 - val_loss: 1.0476 - val_accuracy: 0.6964\n",
      "Epoch 15/200\n",
      "31/40 [======================>.......] - ETA: 0s - loss: 1.2050 - accuracy: 0.5746\n",
      "Epoch 15: val_accuracy did not improve from 0.69643\n",
      "40/40 [==============================] - 0s 3ms/step - loss: 1.2044 - accuracy: 0.5705 - val_loss: 0.9873 - val_accuracy: 0.6964\n",
      "Epoch 16/200\n",
      "31/40 [======================>.......] - ETA: 0s - loss: 1.1606 - accuracy: 0.6008\n",
      "Epoch 16: val_accuracy improved from 0.69643 to 0.72321, saving model to ./model\\weights.best.hdf5\n",
      "40/40 [==============================] - 0s 3ms/step - loss: 1.1548 - accuracy: 0.5975 - val_loss: 0.9260 - val_accuracy: 0.7232\n",
      "Epoch 17/200\n",
      "28/40 [====================>.........] - ETA: 0s - loss: 1.0736 - accuracy: 0.6228\n",
      "Epoch 17: val_accuracy did not improve from 0.72321\n",
      "40/40 [==============================] - 0s 3ms/step - loss: 1.1180 - accuracy: 0.6038 - val_loss: 0.8777 - val_accuracy: 0.6964\n",
      "Epoch 18/200\n",
      "27/40 [===================>..........] - ETA: 0s - loss: 1.0653 - accuracy: 0.6134\n",
      "Epoch 18: val_accuracy improved from 0.72321 to 0.74107, saving model to ./model\\weights.best.hdf5\n",
      "40/40 [==============================] - 0s 3ms/step - loss: 1.0497 - accuracy: 0.6276 - val_loss: 0.8223 - val_accuracy: 0.7411\n",
      "Epoch 19/200\n",
      "29/40 [====================>.........] - ETA: 0s - loss: 1.0059 - accuracy: 0.6401\n",
      "Epoch 19: val_accuracy did not improve from 0.74107\n",
      "40/40 [==============================] - 0s 3ms/step - loss: 0.9973 - accuracy: 0.6498 - val_loss: 0.7675 - val_accuracy: 0.7321\n",
      "Epoch 20/200\n",
      "31/40 [======================>.......] - ETA: 0s - loss: 0.9733 - accuracy: 0.6270\n",
      "Epoch 20: val_accuracy improved from 0.74107 to 0.77679, saving model to ./model\\weights.best.hdf5\n",
      "40/40 [==============================] - 0s 3ms/step - loss: 0.9506 - accuracy: 0.6276 - val_loss: 0.7190 - val_accuracy: 0.7768\n",
      "Epoch 21/200\n",
      "27/40 [===================>..........] - ETA: 0s - loss: 0.9024 - accuracy: 0.6829\n",
      "Epoch 21: val_accuracy improved from 0.77679 to 0.81250, saving model to ./model\\weights.best.hdf5\n",
      "40/40 [==============================] - 0s 4ms/step - loss: 0.9275 - accuracy: 0.6767 - val_loss: 0.6917 - val_accuracy: 0.8125\n",
      "Epoch 22/200\n",
      "26/40 [==================>...........] - ETA: 0s - loss: 0.8975 - accuracy: 0.6827\n",
      "Epoch 22: val_accuracy did not improve from 0.81250\n",
      "40/40 [==============================] - 0s 3ms/step - loss: 0.8810 - accuracy: 0.6941 - val_loss: 0.6455 - val_accuracy: 0.7946\n",
      "Epoch 23/200\n",
      "30/40 [=====================>........] - ETA: 0s - loss: 0.8632 - accuracy: 0.7042\n",
      "Epoch 23: val_accuracy improved from 0.81250 to 0.83929, saving model to ./model\\weights.best.hdf5\n",
      "40/40 [==============================] - 0s 3ms/step - loss: 0.8591 - accuracy: 0.6973 - val_loss: 0.6120 - val_accuracy: 0.8393\n",
      "Epoch 24/200\n",
      "31/40 [======================>.......] - ETA: 0s - loss: 0.8273 - accuracy: 0.7097\n",
      "Epoch 24: val_accuracy improved from 0.83929 to 0.86607, saving model to ./model\\weights.best.hdf5\n",
      "40/40 [==============================] - 0s 3ms/step - loss: 0.8222 - accuracy: 0.7084 - val_loss: 0.5907 - val_accuracy: 0.8661\n",
      "Epoch 25/200\n",
      "30/40 [=====================>........] - ETA: 0s - loss: 0.7996 - accuracy: 0.7396\n",
      "Epoch 25: val_accuracy did not improve from 0.86607\n",
      "40/40 [==============================] - 0s 3ms/step - loss: 0.7892 - accuracy: 0.7195 - val_loss: 0.5546 - val_accuracy: 0.8661\n",
      "Epoch 26/200\n",
      "27/40 [===================>..........] - ETA: 0s - loss: 0.7890 - accuracy: 0.7292\n",
      "Epoch 26: val_accuracy did not improve from 0.86607\n",
      "40/40 [==============================] - 0s 3ms/step - loss: 0.7847 - accuracy: 0.7385 - val_loss: 0.5381 - val_accuracy: 0.8661\n",
      "Epoch 27/200\n",
      "27/40 [===================>..........] - ETA: 0s - loss: 0.8011 - accuracy: 0.7083\n",
      "Epoch 27: val_accuracy did not improve from 0.86607\n",
      "40/40 [==============================] - 0s 3ms/step - loss: 0.7590 - accuracy: 0.7227 - val_loss: 0.5159 - val_accuracy: 0.8661\n",
      "Epoch 28/200\n",
      "30/40 [=====================>........] - ETA: 0s - loss: 0.7378 - accuracy: 0.7292\n",
      "Epoch 28: val_accuracy improved from 0.86607 to 0.89286, saving model to ./model\\weights.best.hdf5\n",
      "40/40 [==============================] - 0s 3ms/step - loss: 0.7233 - accuracy: 0.7369 - val_loss: 0.4886 - val_accuracy: 0.8929\n",
      "Epoch 29/200\n",
      "28/40 [====================>.........] - ETA: 0s - loss: 0.7208 - accuracy: 0.7411\n",
      "Epoch 29: val_accuracy did not improve from 0.89286\n",
      "40/40 [==============================] - 0s 3ms/step - loss: 0.7147 - accuracy: 0.7417 - val_loss: 0.4799 - val_accuracy: 0.8750\n",
      "Epoch 30/200\n",
      "29/40 [====================>.........] - ETA: 0s - loss: 0.7177 - accuracy: 0.7500\n",
      "Epoch 30: val_accuracy did not improve from 0.89286\n",
      "40/40 [==============================] - 0s 3ms/step - loss: 0.6941 - accuracy: 0.7544 - val_loss: 0.4513 - val_accuracy: 0.8750\n",
      "Epoch 31/200\n",
      "31/40 [======================>.......] - ETA: 0s - loss: 0.6567 - accuracy: 0.7621\n",
      "Epoch 31: val_accuracy improved from 0.89286 to 0.90179, saving model to ./model\\weights.best.hdf5\n",
      "40/40 [==============================] - 0s 3ms/step - loss: 0.6524 - accuracy: 0.7670 - val_loss: 0.4263 - val_accuracy: 0.9018\n",
      "Epoch 32/200\n",
      "27/40 [===================>..........] - ETA: 0s - loss: 0.6642 - accuracy: 0.7963\n",
      "Epoch 32: val_accuracy did not improve from 0.90179\n",
      "40/40 [==============================] - 0s 3ms/step - loss: 0.6300 - accuracy: 0.7987 - val_loss: 0.4062 - val_accuracy: 0.8661\n",
      "Epoch 33/200\n",
      "29/40 [====================>.........] - ETA: 0s - loss: 0.6229 - accuracy: 0.7737\n",
      "Epoch 33: val_accuracy did not improve from 0.90179\n",
      "40/40 [==============================] - 0s 3ms/step - loss: 0.6259 - accuracy: 0.7797 - val_loss: 0.4137 - val_accuracy: 0.8750\n",
      "Epoch 34/200\n",
      "30/40 [=====================>........] - ETA: 0s - loss: 0.5975 - accuracy: 0.7979\n",
      "Epoch 34: val_accuracy improved from 0.90179 to 0.92857, saving model to ./model\\weights.best.hdf5\n",
      "40/40 [==============================] - 0s 3ms/step - loss: 0.6055 - accuracy: 0.7908 - val_loss: 0.3721 - val_accuracy: 0.9286\n",
      "Epoch 35/200\n",
      "28/40 [====================>.........] - ETA: 0s - loss: 0.5800 - accuracy: 0.8103\n",
      "Epoch 35: val_accuracy did not improve from 0.92857\n",
      "40/40 [==============================] - 0s 3ms/step - loss: 0.5792 - accuracy: 0.8114 - val_loss: 0.3592 - val_accuracy: 0.9196\n",
      "Epoch 36/200\n",
      "31/40 [======================>.......] - ETA: 0s - loss: 0.5989 - accuracy: 0.8165\n",
      "Epoch 36: val_accuracy did not improve from 0.92857\n",
      "40/40 [==============================] - 0s 3ms/step - loss: 0.6001 - accuracy: 0.8146 - val_loss: 0.3565 - val_accuracy: 0.8929\n",
      "Epoch 37/200\n",
      "29/40 [====================>.........] - ETA: 0s - loss: 0.5568 - accuracy: 0.7888\n",
      "Epoch 37: val_accuracy did not improve from 0.92857\n",
      "40/40 [==============================] - 0s 3ms/step - loss: 0.5639 - accuracy: 0.7861 - val_loss: 0.3379 - val_accuracy: 0.9196\n",
      "Epoch 38/200\n",
      "28/40 [====================>.........] - ETA: 0s - loss: 0.5330 - accuracy: 0.8147\n",
      "Epoch 38: val_accuracy did not improve from 0.92857\n",
      "40/40 [==============================] - 0s 3ms/step - loss: 0.5354 - accuracy: 0.8146 - val_loss: 0.3161 - val_accuracy: 0.9107\n",
      "Epoch 39/200\n",
      "28/40 [====================>.........] - ETA: 0s - loss: 0.5380 - accuracy: 0.8170\n",
      "Epoch 39: val_accuracy did not improve from 0.92857\n",
      "40/40 [==============================] - 0s 3ms/step - loss: 0.5356 - accuracy: 0.8177 - val_loss: 0.3046 - val_accuracy: 0.9286\n",
      "Epoch 40/200\n",
      "31/40 [======================>.......] - ETA: 0s - loss: 0.5522 - accuracy: 0.8044\n",
      "Epoch 40: val_accuracy improved from 0.92857 to 0.93750, saving model to ./model\\weights.best.hdf5\n",
      "40/40 [==============================] - 0s 3ms/step - loss: 0.5347 - accuracy: 0.8082 - val_loss: 0.2968 - val_accuracy: 0.9375\n",
      "Epoch 41/200\n",
      "27/40 [===================>..........] - ETA: 0s - loss: 0.5460 - accuracy: 0.8009\n",
      "Epoch 41: val_accuracy did not improve from 0.93750\n",
      "40/40 [==============================] - 0s 3ms/step - loss: 0.5530 - accuracy: 0.8035 - val_loss: 0.2944 - val_accuracy: 0.9375\n",
      "Epoch 42/200\n",
      "29/40 [====================>.........] - ETA: 0s - loss: 0.5216 - accuracy: 0.8168\n",
      "Epoch 42: val_accuracy did not improve from 0.93750\n",
      "40/40 [==============================] - 0s 3ms/step - loss: 0.5512 - accuracy: 0.8035 - val_loss: 0.2868 - val_accuracy: 0.9196\n",
      "Epoch 43/200\n",
      "31/40 [======================>.......] - ETA: 0s - loss: 0.5168 - accuracy: 0.8448\n",
      "Epoch 43: val_accuracy did not improve from 0.93750\n",
      "40/40 [==============================] - 0s 2ms/step - loss: 0.5136 - accuracy: 0.8431 - val_loss: 0.2934 - val_accuracy: 0.9375\n",
      "Epoch 44/200\n",
      "29/40 [====================>.........] - ETA: 0s - loss: 0.5294 - accuracy: 0.8297\n",
      "Epoch 44: val_accuracy did not improve from 0.93750\n",
      "40/40 [==============================] - 0s 3ms/step - loss: 0.5153 - accuracy: 0.8320 - val_loss: 0.2704 - val_accuracy: 0.9286\n",
      "Epoch 45/200\n",
      "32/40 [=======================>......] - ETA: 0s - loss: 0.4482 - accuracy: 0.8672\n",
      "Epoch 45: val_accuracy did not improve from 0.93750\n",
      "40/40 [==============================] - 0s 3ms/step - loss: 0.4471 - accuracy: 0.8605 - val_loss: 0.2617 - val_accuracy: 0.9286\n",
      "Epoch 46/200\n",
      "30/40 [=====================>........] - ETA: 0s - loss: 0.5066 - accuracy: 0.8250\n",
      "Epoch 46: val_accuracy improved from 0.93750 to 0.96429, saving model to ./model\\weights.best.hdf5\n",
      "40/40 [==============================] - 0s 3ms/step - loss: 0.4988 - accuracy: 0.8304 - val_loss: 0.2490 - val_accuracy: 0.9643\n",
      "Epoch 47/200\n",
      "28/40 [====================>.........] - ETA: 0s - loss: 0.4621 - accuracy: 0.8504\n",
      "Epoch 47: val_accuracy did not improve from 0.96429\n",
      "40/40 [==============================] - 0s 3ms/step - loss: 0.4566 - accuracy: 0.8590 - val_loss: 0.2424 - val_accuracy: 0.9375\n",
      "Epoch 48/200\n",
      "30/40 [=====================>........] - ETA: 0s - loss: 0.4485 - accuracy: 0.8417\n",
      "Epoch 48: val_accuracy did not improve from 0.96429\n",
      "40/40 [==============================] - 0s 2ms/step - loss: 0.4401 - accuracy: 0.8447 - val_loss: 0.2467 - val_accuracy: 0.9286\n",
      "Epoch 49/200\n",
      "28/40 [====================>.........] - ETA: 0s - loss: 0.4755 - accuracy: 0.8371\n",
      "Epoch 49: val_accuracy did not improve from 0.96429\n",
      "40/40 [==============================] - 0s 3ms/step - loss: 0.4652 - accuracy: 0.8447 - val_loss: 0.2380 - val_accuracy: 0.9554\n",
      "Epoch 50/200\n",
      "30/40 [=====================>........] - ETA: 0s - loss: 0.4307 - accuracy: 0.8646\n",
      "Epoch 50: val_accuracy did not improve from 0.96429\n",
      "40/40 [==============================] - 0s 3ms/step - loss: 0.4368 - accuracy: 0.8621 - val_loss: 0.2242 - val_accuracy: 0.9554\n",
      "Epoch 51/200\n",
      "31/40 [======================>.......] - ETA: 0s - loss: 0.4430 - accuracy: 0.8407\n",
      "Epoch 51: val_accuracy did not improve from 0.96429\n",
      "40/40 [==============================] - 0s 3ms/step - loss: 0.4416 - accuracy: 0.8399 - val_loss: 0.2338 - val_accuracy: 0.9464\n",
      "Epoch 52/200\n",
      "29/40 [====================>.........] - ETA: 0s - loss: 0.4743 - accuracy: 0.8254\n",
      "Epoch 52: val_accuracy did not improve from 0.96429\n",
      "40/40 [==============================] - 0s 3ms/step - loss: 0.4423 - accuracy: 0.8431 - val_loss: 0.2146 - val_accuracy: 0.9554\n",
      "Epoch 53/200\n",
      "30/40 [=====================>........] - ETA: 0s - loss: 0.4004 - accuracy: 0.8646\n",
      "Epoch 53: val_accuracy did not improve from 0.96429\n",
      "40/40 [==============================] - 0s 3ms/step - loss: 0.4131 - accuracy: 0.8558 - val_loss: 0.2000 - val_accuracy: 0.9643\n",
      "Epoch 54/200\n",
      "31/40 [======================>.......] - ETA: 0s - loss: 0.4111 - accuracy: 0.8589\n",
      "Epoch 54: val_accuracy did not improve from 0.96429\n",
      "40/40 [==============================] - 0s 3ms/step - loss: 0.4113 - accuracy: 0.8590 - val_loss: 0.2063 - val_accuracy: 0.9554\n",
      "Epoch 55/200\n",
      "28/40 [====================>.........] - ETA: 0s - loss: 0.4176 - accuracy: 0.8460\n",
      "Epoch 55: val_accuracy did not improve from 0.96429\n",
      "40/40 [==============================] - 0s 3ms/step - loss: 0.3955 - accuracy: 0.8590 - val_loss: 0.2031 - val_accuracy: 0.9464\n",
      "Epoch 56/200\n",
      "28/40 [====================>.........] - ETA: 0s - loss: 0.4123 - accuracy: 0.8482\n",
      "Epoch 56: val_accuracy did not improve from 0.96429\n",
      "40/40 [==============================] - 0s 3ms/step - loss: 0.4163 - accuracy: 0.8542 - val_loss: 0.1881 - val_accuracy: 0.9554\n",
      "Epoch 57/200\n",
      "31/40 [======================>.......] - ETA: 0s - loss: 0.4083 - accuracy: 0.8569\n",
      "Epoch 57: val_accuracy did not improve from 0.96429\n",
      "40/40 [==============================] - 0s 2ms/step - loss: 0.4011 - accuracy: 0.8590 - val_loss: 0.1960 - val_accuracy: 0.9554\n",
      "Epoch 58/200\n",
      "29/40 [====================>.........] - ETA: 0s - loss: 0.3554 - accuracy: 0.8922\n",
      "Epoch 58: val_accuracy did not improve from 0.96429\n",
      "40/40 [==============================] - 0s 3ms/step - loss: 0.3759 - accuracy: 0.8811 - val_loss: 0.1837 - val_accuracy: 0.9554\n",
      "Epoch 59/200\n",
      "29/40 [====================>.........] - ETA: 0s - loss: 0.4283 - accuracy: 0.8513\n",
      "Epoch 59: val_accuracy did not improve from 0.96429\n",
      "40/40 [==============================] - 0s 3ms/step - loss: 0.4203 - accuracy: 0.8542 - val_loss: 0.1837 - val_accuracy: 0.9643\n",
      "Epoch 60/200\n",
      "27/40 [===================>..........] - ETA: 0s - loss: 0.3804 - accuracy: 0.8866\n",
      "Epoch 60: val_accuracy did not improve from 0.96429\n",
      "40/40 [==============================] - 0s 3ms/step - loss: 0.3995 - accuracy: 0.8748 - val_loss: 0.1710 - val_accuracy: 0.9643\n",
      "Epoch 61/200\n",
      "27/40 [===================>..........] - ETA: 0s - loss: 0.3597 - accuracy: 0.8796\n",
      "Epoch 61: val_accuracy did not improve from 0.96429\n",
      "40/40 [==============================] - 0s 3ms/step - loss: 0.3779 - accuracy: 0.8780 - val_loss: 0.1738 - val_accuracy: 0.9643\n",
      "Epoch 62/200\n",
      "30/40 [=====================>........] - ETA: 0s - loss: 0.3563 - accuracy: 0.8854\n",
      "Epoch 62: val_accuracy did not improve from 0.96429\n",
      "40/40 [==============================] - 0s 3ms/step - loss: 0.3741 - accuracy: 0.8780 - val_loss: 0.1905 - val_accuracy: 0.9464\n",
      "Epoch 63/200\n",
      "27/40 [===================>..........] - ETA: 0s - loss: 0.3766 - accuracy: 0.8819\n",
      "Epoch 63: val_accuracy did not improve from 0.96429\n",
      "40/40 [==============================] - 0s 3ms/step - loss: 0.3642 - accuracy: 0.8796 - val_loss: 0.1785 - val_accuracy: 0.9643\n",
      "Epoch 64/200\n",
      "29/40 [====================>.........] - ETA: 0s - loss: 0.3774 - accuracy: 0.8642\n",
      "Epoch 64: val_accuracy did not improve from 0.96429\n",
      "40/40 [==============================] - 0s 3ms/step - loss: 0.3719 - accuracy: 0.8653 - val_loss: 0.1594 - val_accuracy: 0.9554\n",
      "Epoch 65/200\n",
      "30/40 [=====================>........] - ETA: 0s - loss: 0.3594 - accuracy: 0.8813\n",
      "Epoch 65: val_accuracy improved from 0.96429 to 0.97321, saving model to ./model\\weights.best.hdf5\n",
      "40/40 [==============================] - 0s 3ms/step - loss: 0.3524 - accuracy: 0.8859 - val_loss: 0.1552 - val_accuracy: 0.9732\n",
      "Epoch 66/200\n",
      "29/40 [====================>.........] - ETA: 0s - loss: 0.2987 - accuracy: 0.9095\n",
      "Epoch 66: val_accuracy did not improve from 0.97321\n",
      "40/40 [==============================] - 0s 3ms/step - loss: 0.3423 - accuracy: 0.8843 - val_loss: 0.1640 - val_accuracy: 0.9554\n",
      "Epoch 67/200\n",
      "29/40 [====================>.........] - ETA: 0s - loss: 0.3344 - accuracy: 0.8858\n",
      "Epoch 67: val_accuracy did not improve from 0.97321\n",
      "40/40 [==============================] - 0s 3ms/step - loss: 0.3634 - accuracy: 0.8669 - val_loss: 0.1610 - val_accuracy: 0.9643\n",
      "Epoch 68/200\n",
      "31/40 [======================>.......] - ETA: 0s - loss: 0.3558 - accuracy: 0.8831\n",
      "Epoch 68: val_accuracy did not improve from 0.97321\n",
      "40/40 [==============================] - 0s 3ms/step - loss: 0.3790 - accuracy: 0.8700 - val_loss: 0.1636 - val_accuracy: 0.9554\n",
      "Epoch 69/200\n",
      "29/40 [====================>.........] - ETA: 0s - loss: 0.3691 - accuracy: 0.8922\n",
      "Epoch 69: val_accuracy did not improve from 0.97321\n",
      "40/40 [==============================] - 0s 3ms/step - loss: 0.3683 - accuracy: 0.8859 - val_loss: 0.1531 - val_accuracy: 0.9732\n",
      "Epoch 70/200\n",
      "28/40 [====================>.........] - ETA: 0s - loss: 0.3422 - accuracy: 0.8772\n",
      "Epoch 70: val_accuracy did not improve from 0.97321\n",
      "40/40 [==============================] - 0s 3ms/step - loss: 0.3469 - accuracy: 0.8764 - val_loss: 0.1583 - val_accuracy: 0.9464\n",
      "Epoch 71/200\n",
      "30/40 [=====================>........] - ETA: 0s - loss: 0.3185 - accuracy: 0.9000\n",
      "Epoch 71: val_accuracy did not improve from 0.97321\n",
      "40/40 [==============================] - 0s 3ms/step - loss: 0.3185 - accuracy: 0.8970 - val_loss: 0.1529 - val_accuracy: 0.9643\n",
      "Epoch 72/200\n",
      "30/40 [=====================>........] - ETA: 0s - loss: 0.3396 - accuracy: 0.8938\n",
      "Epoch 72: val_accuracy did not improve from 0.97321\n",
      "40/40 [==============================] - 0s 3ms/step - loss: 0.3222 - accuracy: 0.8986 - val_loss: 0.1347 - val_accuracy: 0.9732\n",
      "Epoch 73/200\n",
      "33/40 [=======================>......] - ETA: 0s - loss: 0.3375 - accuracy: 0.8883\n",
      "Epoch 73: val_accuracy did not improve from 0.97321\n",
      "40/40 [==============================] - 0s 3ms/step - loss: 0.3293 - accuracy: 0.8938 - val_loss: 0.1389 - val_accuracy: 0.9554\n",
      "Epoch 74/200\n",
      "30/40 [=====================>........] - ETA: 0s - loss: 0.2999 - accuracy: 0.9083\n",
      "Epoch 74: val_accuracy did not improve from 0.97321\n",
      "40/40 [==============================] - 0s 3ms/step - loss: 0.3182 - accuracy: 0.9081 - val_loss: 0.1332 - val_accuracy: 0.9643\n",
      "Epoch 75/200\n",
      "31/40 [======================>.......] - ETA: 0s - loss: 0.2889 - accuracy: 0.8972\n",
      "Epoch 75: val_accuracy improved from 0.97321 to 0.98214, saving model to ./model\\weights.best.hdf5\n",
      "40/40 [==============================] - 0s 3ms/step - loss: 0.2996 - accuracy: 0.8954 - val_loss: 0.1273 - val_accuracy: 0.9821\n",
      "Epoch 76/200\n",
      "27/40 [===================>..........] - ETA: 0s - loss: 0.2668 - accuracy: 0.9120\n",
      "Epoch 76: val_accuracy did not improve from 0.98214\n",
      "40/40 [==============================] - 0s 3ms/step - loss: 0.2838 - accuracy: 0.9081 - val_loss: 0.1260 - val_accuracy: 0.9643\n",
      "Epoch 77/200\n",
      "28/40 [====================>.........] - ETA: 0s - loss: 0.2656 - accuracy: 0.9219\n",
      "Epoch 77: val_accuracy did not improve from 0.98214\n",
      "40/40 [==============================] - 0s 3ms/step - loss: 0.2943 - accuracy: 0.9049 - val_loss: 0.1263 - val_accuracy: 0.9643\n",
      "Epoch 78/200\n",
      "28/40 [====================>.........] - ETA: 0s - loss: 0.3142 - accuracy: 0.8996\n",
      "Epoch 78: val_accuracy did not improve from 0.98214\n",
      "40/40 [==============================] - 0s 3ms/step - loss: 0.3103 - accuracy: 0.8954 - val_loss: 0.1226 - val_accuracy: 0.9643\n",
      "Epoch 79/200\n",
      "29/40 [====================>.........] - ETA: 0s - loss: 0.3079 - accuracy: 0.8922\n",
      "Epoch 79: val_accuracy did not improve from 0.98214\n",
      "40/40 [==============================] - 0s 3ms/step - loss: 0.3274 - accuracy: 0.8843 - val_loss: 0.1338 - val_accuracy: 0.9643\n",
      "Epoch 80/200\n",
      "30/40 [=====================>........] - ETA: 0s - loss: 0.2710 - accuracy: 0.9125\n",
      "Epoch 80: val_accuracy did not improve from 0.98214\n",
      "40/40 [==============================] - 0s 3ms/step - loss: 0.2916 - accuracy: 0.9049 - val_loss: 0.1267 - val_accuracy: 0.9643\n",
      "Epoch 81/200\n",
      "27/40 [===================>..........] - ETA: 0s - loss: 0.2783 - accuracy: 0.9236\n",
      "Epoch 81: val_accuracy did not improve from 0.98214\n",
      "40/40 [==============================] - 0s 3ms/step - loss: 0.2653 - accuracy: 0.9334 - val_loss: 0.1189 - val_accuracy: 0.9732\n",
      "Epoch 82/200\n",
      "31/40 [======================>.......] - ETA: 0s - loss: 0.2572 - accuracy: 0.9294\n",
      "Epoch 82: val_accuracy did not improve from 0.98214\n",
      "40/40 [==============================] - 0s 3ms/step - loss: 0.2623 - accuracy: 0.9255 - val_loss: 0.1167 - val_accuracy: 0.9643\n",
      "Epoch 83/200\n",
      "30/40 [=====================>........] - ETA: 0s - loss: 0.2932 - accuracy: 0.8958\n",
      "Epoch 83: val_accuracy did not improve from 0.98214\n",
      "40/40 [==============================] - 0s 3ms/step - loss: 0.2847 - accuracy: 0.9002 - val_loss: 0.1298 - val_accuracy: 0.9464\n",
      "Epoch 84/200\n",
      "30/40 [=====================>........] - ETA: 0s - loss: 0.3386 - accuracy: 0.9000\n",
      "Epoch 84: val_accuracy did not improve from 0.98214\n",
      "40/40 [==============================] - 0s 3ms/step - loss: 0.3223 - accuracy: 0.9017 - val_loss: 0.1224 - val_accuracy: 0.9643\n",
      "Epoch 85/200\n",
      "32/40 [=======================>......] - ETA: 0s - loss: 0.2803 - accuracy: 0.9043\n",
      "Epoch 85: val_accuracy did not improve from 0.98214\n",
      "40/40 [==============================] - 0s 2ms/step - loss: 0.2733 - accuracy: 0.9097 - val_loss: 0.1108 - val_accuracy: 0.9554\n",
      "Epoch 86/200\n",
      "30/40 [=====================>........] - ETA: 0s - loss: 0.3023 - accuracy: 0.8979\n",
      "Epoch 86: val_accuracy did not improve from 0.98214\n",
      "40/40 [==============================] - 0s 3ms/step - loss: 0.3028 - accuracy: 0.8954 - val_loss: 0.1135 - val_accuracy: 0.9554\n",
      "Epoch 87/200\n",
      "27/40 [===================>..........] - ETA: 0s - loss: 0.2732 - accuracy: 0.9259\n",
      "Epoch 87: val_accuracy did not improve from 0.98214\n",
      "40/40 [==============================] - 0s 3ms/step - loss: 0.2763 - accuracy: 0.9223 - val_loss: 0.1085 - val_accuracy: 0.9643\n",
      "Epoch 88/200\n",
      "28/40 [====================>.........] - ETA: 0s - loss: 0.2618 - accuracy: 0.9174\n",
      "Epoch 88: val_accuracy did not improve from 0.98214\n",
      "40/40 [==============================] - 0s 3ms/step - loss: 0.2837 - accuracy: 0.9113 - val_loss: 0.1102 - val_accuracy: 0.9643\n",
      "Epoch 89/200\n",
      "26/40 [==================>...........] - ETA: 0s - loss: 0.2614 - accuracy: 0.9135\n",
      "Epoch 89: val_accuracy did not improve from 0.98214\n",
      "40/40 [==============================] - 0s 3ms/step - loss: 0.2662 - accuracy: 0.9144 - val_loss: 0.1093 - val_accuracy: 0.9554\n",
      "Epoch 90/200\n",
      "31/40 [======================>.......] - ETA: 0s - loss: 0.2770 - accuracy: 0.9073\n",
      "Epoch 90: val_accuracy did not improve from 0.98214\n",
      "40/40 [==============================] - 0s 3ms/step - loss: 0.3021 - accuracy: 0.8986 - val_loss: 0.1159 - val_accuracy: 0.9643\n",
      "Epoch 91/200\n",
      "26/40 [==================>...........] - ETA: 0s - loss: 0.2743 - accuracy: 0.9135\n",
      "Epoch 91: val_accuracy did not improve from 0.98214\n",
      "40/40 [==============================] - 0s 3ms/step - loss: 0.2939 - accuracy: 0.9033 - val_loss: 0.1170 - val_accuracy: 0.9554\n",
      "Epoch 92/200\n",
      "28/40 [====================>.........] - ETA: 0s - loss: 0.2202 - accuracy: 0.9375\n",
      "Epoch 92: val_accuracy did not improve from 0.98214\n",
      "40/40 [==============================] - 0s 3ms/step - loss: 0.2504 - accuracy: 0.9208 - val_loss: 0.1177 - val_accuracy: 0.9554\n",
      "Epoch 93/200\n",
      "31/40 [======================>.......] - ETA: 0s - loss: 0.2826 - accuracy: 0.9093\n",
      "Epoch 93: val_accuracy did not improve from 0.98214\n",
      "40/40 [==============================] - 0s 2ms/step - loss: 0.2644 - accuracy: 0.9208 - val_loss: 0.1012 - val_accuracy: 0.9732\n",
      "Epoch 94/200\n",
      "29/40 [====================>.........] - ETA: 0s - loss: 0.2211 - accuracy: 0.9332\n",
      "Epoch 94: val_accuracy did not improve from 0.98214\n",
      "40/40 [==============================] - 0s 3ms/step - loss: 0.2380 - accuracy: 0.9271 - val_loss: 0.0985 - val_accuracy: 0.9643\n",
      "Epoch 95/200\n",
      "30/40 [=====================>........] - ETA: 0s - loss: 0.2768 - accuracy: 0.9125\n",
      "Epoch 95: val_accuracy did not improve from 0.98214\n",
      "40/40 [==============================] - 0s 3ms/step - loss: 0.2684 - accuracy: 0.9144 - val_loss: 0.1014 - val_accuracy: 0.9643\n"
     ]
    },
    {
     "name": "stderr",
     "output_type": "stream",
     "text": [
      "WARNING:absl:Found untraced functions such as _update_step_xla while saving (showing 1 of 1). These functions will not be directly callable after loading.\n"
     ]
    },
    {
     "name": "stdout",
     "output_type": "stream",
     "text": [
      "INFO:tensorflow:Assets written to: ./model/run_classifier/assets\n"
     ]
    },
    {
     "name": "stderr",
     "output_type": "stream",
     "text": [
      "INFO:tensorflow:Assets written to: ./model/run_classifier/assets\n"
     ]
    },
    {
     "name": "stdout",
     "output_type": "stream",
     "text": [
      "7/7 [==============================] - 0s 1ms/step - loss: 0.1970 - accuracy: 0.9573\n",
      "7/7 [==============================] - 0s 1ms/step\n"
     ]
    }
   ],
   "source": [
    "classifier = MoveNetClassifier()\n",
    "classifier.build_model(class_names=class_names)\n",
    "history = classifier.train(X, y, cp_path=\"./model/weights.best.hdf5\", save_path=\"./model/run_classifier/\")\n",
    "loss, accuracy = classifier.evaluate(X_test, y_test)\n",
    "y_pred = classifier.predict(X_test)"
   ],
   "metadata": {
    "collapsed": false
   }
  },
  {
   "cell_type": "code",
   "execution_count": 8,
   "outputs": [
    {
     "data": {
      "text/plain": "<Figure size 640x480 with 1 Axes>",
      "image/png": "[encoded data removed]"
     },
     "metadata": {},
     "output_type": "display_data"
    }
   ],
   "source": [
    "# Visualize the training history to see whether you're overfitting.\n",
    "plt.plot(history.history['accuracy'])\n",
    "plt.plot(history.history['val_accuracy'])\n",
    "plt.title('Model accuracy')\n",
    "plt.ylabel('accuracy')\n",
    "plt.xlabel('epoch')\n",
    "plt.legend(['TRAIN', 'VAL'], loc='lower right')\n",
    "plt.show()"
   ],
   "metadata": {
    "collapsed": false
   }
  },
  {
   "cell_type": "code",
   "execution_count": 9,
   "outputs": [
    {
     "name": "stdout",
     "output_type": "stream",
     "text": [
      "Confusion matrix, without normalization\n",
      "\n",
      "Classification Report:\n",
      "                 precision    recall  f1-score   support\n",
      "\n",
      "  ForrestGump\n",
      "       1.00      1.00      1.00        13\n",
      "   ForwardRun\n",
      "       1.00      1.00      1.00        23\n",
      "      GirlRun\n",
      "       0.83      1.00      0.90        19\n",
      "       Naruto\n",
      "       1.00      1.00      1.00        28\n",
      "    NormalRun\n",
      "       1.00      0.87      0.93        45\n",
      "  ShoulderRun\n",
      "       0.91      0.95      0.93        21\n",
      "   SitWithRun\n",
      "       0.93      1.00      0.96        25\n",
      "UnswingingArm\n",
      "       0.97      0.95      0.96        37\n",
      "\n",
      "      accuracy                           0.96       211\n",
      "     macro avg       0.95      0.97      0.96       211\n",
      "  weighted avg       0.96      0.96      0.96       211\n",
      "\n",
      "[[13  0  0  0  0  0  0  0]\n",
      " [ 0 23  0  0  0  0  0  0]\n",
      " [ 0  0 19  0  0  0  0  0]\n",
      " [ 0  0  0 28  0  0  0  0]\n",
      " [ 0  0  4  0 39  0  2  0]\n",
      " [ 0  0  0  0  0 20  0  1]\n",
      " [ 0  0  0  0  0  0 25  0]\n",
      " [ 0  0  0  0  0  2  0 35]]\n"
     ]
    },
    {
     "data": {
      "text/plain": "<Figure size 640x480 with 2 Axes>",
      "image/png": "[encoded data removed]"
     },
     "metadata": {},
     "output_type": "display_data"
    }
   ],
   "source": [
    "from sklearn.metrics import classification_report, confusion_matrix\n",
    "\n",
    "y_pred_label = [class_names[i] for i in np.argmax(y_pred, axis=1)]\n",
    "y_true_label = [class_names[i] for i in np.argmax(y_test, axis=1)]\n",
    "\n",
    "cm = confusion_matrix(np.argmax(y_test, axis=1), np.argmax(y_pred, axis=1))\n",
    "plot_confusion_matrix(cm, class_names, title ='Confusion Matrix of Pose Classification Model')\n",
    "\n",
    "print('\\nClassification Report:\\n', classification_report(y_true_label, y_pred_label))\n",
    "print(cm)"
   ],
   "metadata": {
    "collapsed": false
   }
  },
  {
   "cell_type": "code",
   "execution_count": 10,
   "outputs": [
    {
     "name": "stderr",
     "output_type": "stream",
     "text": [
      "WARNING:absl:Found untraced functions such as _update_step_xla while saving (showing 1 of 1). These functions will not be directly callable after loading.\n"
     ]
    },
    {
     "name": "stdout",
     "output_type": "stream",
     "text": [
      "INFO:tensorflow:Assets written to: C:\\Users\\17214\\AppData\\Local\\Temp\\tmpeidsq8k9\\assets\n"
     ]
    },
    {
     "name": "stderr",
     "output_type": "stream",
     "text": [
      "INFO:tensorflow:Assets written to: C:\\Users\\17214\\AppData\\Local\\Temp\\tmpeidsq8k9\\assets\n"
     ]
    },
    {
     "name": "stdout",
     "output_type": "stream",
     "text": [
      "Model size: 27KB\n"
     ]
    }
   ],
   "source": [
    "classifier.save_model(\"./model/\", \"run_classifier\")"
   ],
   "metadata": {
    "collapsed": false
   }
  },
  {
   "cell_type": "markdown",
   "source": [
    "# Predict 部分"
   ],
   "metadata": {
    "collapsed": false
   }
  },
  {
   "cell_type": "code",
   "execution_count": 11,
   "outputs": [],
   "source": [
    "classifier = MoveNetClassifier()\n",
    "classifier.build_model(model_path=\"./model/run_classifier\")"
   ],
   "metadata": {
    "collapsed": false
   }
  },
  {
   "cell_type": "markdown",
   "source": [
    "### pic_predict 部分"
   ],
   "metadata": {
    "collapsed": false
   }
  },
  {
   "cell_type": "code",
   "execution_count": 12,
   "outputs": [
    {
     "name": "stderr",
     "output_type": "stream",
     "text": [
      "Preprocessing pic_predict\n",
      "100%|██████████| 146/146 [00:10<00:00, 13.36it/s]\n"
     ]
    },
    {
     "name": "stdout",
     "output_type": "stream",
     "text": [
      "4/4 [==============================] - 0s 2ms/step\n"
     ]
    }
   ],
   "source": [
    "images_folder = os.path.join(\"./data/run_predict\", 'running_pic')\n",
    "csvs_path = tempfile.mkdtemp() + \"/predict.csv\"\n",
    "_, predict_pose = poseMark.img_predict(folder=images_folder, csvs_path=csvs_path)\n",
    "\n",
    "filename, data_value, _ = split_pose_landmarks(predict_pose)\n",
    "\n",
    "y_pred = classifier.predict(data_value)\n",
    "y_pred_label = [class_names[i].rstrip() for i in np.argmax(y_pred, axis=1)]"
   ],
   "metadata": {
    "collapsed": false
   }
  },
  {
   "cell_type": "code",
   "execution_count": 13,
   "outputs": [
    {
     "name": "stdout",
     "output_type": "stream",
     "text": [
      "ForrestGump_0.jpg is ForrestGump\n",
      "ForrestGump_1.jpg is ForrestGump\n",
      "ForrestGump_10.jpg is ForrestGump\n",
      "ForrestGump_11.jpg is ForrestGump\n",
      "ForrestGump_4.jpg is ForrestGump\n",
      "ForrestGump_5.jpg is ForrestGump\n",
      "ForrestGump_6.jpg is ForrestGump\n",
      "ForrestGump_7.jpg is ForrestGump\n",
      "ForrestGump_8.jpg is ForrestGump\n",
      "ForwardRun_0.jpg is ForwardRun\n",
      "ForwardRun_1.jpg is ForwardRun\n",
      "ForwardRun_12.jpg is ForwardRun\n",
      "ForwardRun_13.jpg is ForwardRun\n",
      "ForwardRun_14.jpg is ForwardRun\n",
      "ForwardRun_15.jpg is ForwardRun\n",
      "ForwardRun_2.jpg is ForwardRun\n",
      "ForwardRun_4.jpg is ForwardRun\n",
      "ForwardRun_5.jpg is ForwardRun\n",
      "ForwardRun_6.jpg is ForwardRun\n",
      "ForwardRun_7.jpg is ForwardRun\n",
      "ForwardRun_8.jpg is ForwardRun\n",
      "GirlRun_0.jpg is GirlRun\n",
      "GirlRun_1.jpg is GirlRun\n",
      "GirlRun_10.jpg is GirlRun\n",
      "GirlRun_12.jpg is GirlRun\n",
      "GirlRun_2.jpg is GirlRun\n",
      "GirlRun_3.jpg is GirlRun\n",
      "GirlRun_4.jpg is GirlRun\n",
      "GirlRun_6.jpg is GirlRun\n",
      "GirlRun_7.jpg is GirlRun\n",
      "GirlRun_8.jpg is GirlRun\n",
      "GirlRun_9.jpg is GirlRun\n",
      "Naruto_10.jpg is Naruto\n",
      "Naruto_12.jpg is Naruto\n",
      "Naruto_17.jpg is Naruto\n",
      "Naruto_19.jpg is Naruto\n",
      "Naruto_21.jpg is Naruto\n",
      "Naruto_3.jpg is Naruto\n",
      "Naruto_6.jpg is Naruto\n",
      "Naruto_7.jpg is Naruto\n",
      "Naruto_8.jpg is Naruto\n",
      "NormalRun_0.jpg is NormalRun\n",
      "NormalRun_1.jpg is NormalRun\n",
      "NormalRun_10.jpg is NormalRun\n",
      "NormalRun_11.jpg is NormalRun\n",
      "NormalRun_12.jpg is NormalRun\n",
      "NormalRun_13.jpg is NormalRun\n",
      "NormalRun_14.jpg is NormalRun\n",
      "NormalRun_15.jpg is NormalRun\n",
      "NormalRun_16.jpg is NormalRun\n",
      "NormalRun_17.jpg is NormalRun\n",
      "NormalRun_18.jpg is NormalRun\n",
      "NormalRun_19.jpg is NormalRun\n",
      "NormalRun_2.jpg is NormalRun\n",
      "NormalRun_20.jpg is NormalRun\n",
      "NormalRun_21.jpg is NormalRun\n",
      "NormalRun_22.jpg is NormalRun\n",
      "NormalRun_23.jpg is NormalRun\n",
      "NormalRun_24.jpg is NormalRun\n",
      "NormalRun_25.jpg is NormalRun\n",
      "NormalRun_3.jpg is NormalRun\n",
      "NormalRun_4.jpg is NormalRun\n",
      "NormalRun_5.jpg is NormalRun\n",
      "NormalRun_6.jpg is NormalRun\n",
      "NormalRun_8.jpg is NormalRun\n",
      "NormalRun_9.jpg is NormalRun\n",
      "ShoulderRun_0.jpg is ShoulderRun\n",
      "ShoulderRun_1.jpg is ShoulderRun\n",
      "ShoulderRun_11.jpg is ShoulderRun\n",
      "ShoulderRun_12.jpg is ShoulderRun\n",
      "ShoulderRun_13.jpg is ShoulderRun\n",
      "ShoulderRun_2.jpg is ShoulderRun\n",
      "ShoulderRun_4.jpg is ShoulderRun\n",
      "ShoulderRun_5.jpg is ShoulderRun\n",
      "ShoulderRun_7.jpg is ShoulderRun\n",
      "ShoulderRun_8.jpg is ShoulderRun\n",
      "SitWithRun_0.jpg is SitWithRun\n",
      "SitWithRun_1.jpg is SitWithRun\n",
      "SitWithRun_13.jpg is SitWithRun\n",
      "SitWithRun_16.jpg is SitWithRun\n",
      "SitWithRun_17.jpg is SitWithRun\n",
      "SitWithRun_18.jpg is SitWithRun\n",
      "SitWithRun_19.jpg is SitWithRun\n",
      "SitWithRun_20.jpg is SitWithRun\n",
      "SitWithRun_3.jpg is SitWithRun\n",
      "SitWithRun_4.jpg is SitWithRun\n",
      "SitWithRun_5.jpg is SitWithRun\n",
      "SitWithRun_7.jpg is SitWithRun\n",
      "SitWithRun_8.jpg is SitWithRun\n",
      "SitWithRun_9.jpg is SitWithRun\n",
      "UnswingingArm_0.jpg is UnswingingArm\n",
      "UnswingingArm_1.jpg is UnswingingArm\n",
      "UnswingingArm_12.jpg is UnswingingArm\n",
      "UnswingingArm_13.jpg is UnswingingArm\n",
      "UnswingingArm_14.jpg is UnswingingArm\n",
      "UnswingingArm_15.jpg is UnswingingArm\n",
      "UnswingingArm_17.jpg is UnswingingArm\n",
      "UnswingingArm_18.jpg is UnswingingArm\n",
      "UnswingingArm_19.jpg is UnswingingArm\n",
      "UnswingingArm_2.jpg is UnswingingArm\n",
      "UnswingingArm_20.jpg is UnswingingArm\n",
      "UnswingingArm_3.jpg is UnswingingArm\n",
      "UnswingingArm_4.jpg is UnswingingArm\n",
      "UnswingingArm_5.jpg is UnswingingArm\n",
      "UnswingingArm_6.jpg is UnswingingArm\n",
      "UnswingingArm_7.jpg is UnswingingArm\n",
      "UnswingingArm_8.jpg is UnswingingArm\n",
      "UnswingingArm_9.jpg is UnswingingArm\n"
     ]
    }
   ],
   "source": [
    "for f, p in zip(filename, y_pred_label):\n",
    "  print(f\"{f} is {p}\")"
   ],
   "metadata": {
    "collapsed": false
   }
  },
  {
   "cell_type": "markdown",
   "source": [
    "### vid_predict 部分"
   ],
   "metadata": {
    "collapsed": false
   }
  },
  {
   "cell_type": "code",
   "execution_count": 14,
   "outputs": [
    {
     "name": "stderr",
     "output_type": "stream",
     "text": [
      "Preprocessing vid_predict\n",
      "100%|██████████| 27/27 [00:01<00:00, 14.07it/s]"
     ]
    },
    {
     "name": "stdout",
     "output_type": "stream",
     "text": [
      "1/1 [==============================] - 0s 20ms/step\n"
     ]
    },
    {
     "name": "stderr",
     "output_type": "stream",
     "text": [
      "\n",
      "Preprocessing vid_predict\n",
      "100%|██████████| 6/6 [00:00<00:00, 14.39it/s]\n"
     ]
    },
    {
     "name": "stdout",
     "output_type": "stream",
     "text": [
      "1/1 [==============================] - 0s 21ms/step\n"
     ]
    },
    {
     "name": "stderr",
     "output_type": "stream",
     "text": [
      "Preprocessing vid_predict\n",
      "100%|██████████| 6/6 [00:00<00:00, 14.41it/s]\n"
     ]
    },
    {
     "name": "stdout",
     "output_type": "stream",
     "text": [
      "1/1 [==============================] - 0s 19ms/step\n"
     ]
    },
    {
     "name": "stderr",
     "output_type": "stream",
     "text": [
      "Preprocessing vid_predict\n",
      "100%|██████████| 5/5 [00:00<00:00, 14.27it/s]"
     ]
    },
    {
     "name": "stdout",
     "output_type": "stream",
     "text": [
      "1/1 [==============================] - 0s 18ms/step\n"
     ]
    },
    {
     "name": "stderr",
     "output_type": "stream",
     "text": [
      "\n",
      "Preprocessing vid_predict\n",
      "100%|██████████| 5/5 [00:00<00:00, 13.69it/s]"
     ]
    },
    {
     "name": "stdout",
     "output_type": "stream",
     "text": [
      "1/1 [==============================] - 0s 18ms/step\n"
     ]
    },
    {
     "name": "stderr",
     "output_type": "stream",
     "text": [
      "\n",
      "Preprocessing vid_predict\n",
      "100%|██████████| 6/6 [00:00<00:00, 14.38it/s]\n"
     ]
    },
    {
     "name": "stdout",
     "output_type": "stream",
     "text": [
      "1/1 [==============================] - 0s 18ms/step\n"
     ]
    },
    {
     "name": "stderr",
     "output_type": "stream",
     "text": [
      "Preprocessing vid_predict\n",
      "100%|██████████| 18/18 [00:01<00:00, 14.24it/s]\n"
     ]
    },
    {
     "name": "stdout",
     "output_type": "stream",
     "text": [
      "1/1 [==============================] - 0s 22ms/step\n"
     ]
    }
   ],
   "source": [
    "video_folder = os.path.join(\"./data/run_predict\", 'running_vid')\n",
    "csvs_path = tempfile.mkdtemp() + \"/predict.csv\"\n",
    "filename, y_pred = os.listdir(video_folder), []\n",
    "for name in filename:\n",
    "    _, predict_pose = poseMark.vid_predict(vid_path=f\"{video_folder}/{name}\", csvs_path=csvs_path)\n",
    "    _, data_value, _ = split_pose_landmarks(predict_pose)\n",
    "    pred = classifier.predict(data_value)\n",
    "    label = [class_names[i].rstrip() for i in np.argmax(pred, axis=1)]\n",
    "    y_pred.append(max(set(label), key=label.count))"
   ],
   "metadata": {
    "collapsed": false
   }
  },
  {
   "cell_type": "code",
   "execution_count": 15,
   "outputs": [
    {
     "name": "stdout",
     "output_type": "stream",
     "text": [
      "ForwardRun_0.mp4 is ForwardRun\n",
      "ForwardRun_1.mp4 is ForwardRun\n",
      "NormalRun_0.mp4 is GirlRun\n",
      "NormalRun_1.mp4 is ForrestGump\n",
      "NormalRun_2.mp4 is ForrestGump\n",
      "NormalRun_3.mp4 is GirlRun\n",
      "NormalRun_4.mp4 is ForrestGump\n"
     ]
    }
   ],
   "source": [
    "for f, p in zip(filename, y_pred):\n",
    "  print(f\"{f} is {p}\")"
   ],
   "metadata": {
    "collapsed": false
   }
  },
  {
   "cell_type": "code",
   "execution_count": 20,
   "outputs": [],
   "source": [],
   "metadata": {
    "collapsed": false
   }
  },
  {
   "cell_type": "code",
   "execution_count": null,
   "outputs": [],
   "source": [],
   "metadata": {
    "collapsed": false
   }
  },
  {
   "cell_type": "code",
   "execution_count": null,
   "outputs": [],
   "source": [],
   "metadata": {
    "collapsed": false
   }
  },
  {
   "cell_type": "code",
   "execution_count": null,
   "outputs": [],
   "source": [],
   "metadata": {
    "collapsed": false
   }
  }
 ],
 "metadata": {
  "kernelspec": {
   "display_name": "Python 3",
   "language": "python",
   "name": "python3"
  },
  "language_info": {
   "codemirror_mode": {
    "name": "ipython",
    "version": 2
   },
   "file_extension": ".py",
   "mimetype": "text/x-python",
   "name": "python",
   "nbconvert_exporter": "python",
   "pygments_lexer": "ipython2",
   "version": "2.7.6"
  }
 },
 "nbformat": 4,
 "nbformat_minor": 0
}
