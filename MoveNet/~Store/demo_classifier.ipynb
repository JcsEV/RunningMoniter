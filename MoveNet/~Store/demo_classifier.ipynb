{
 "cells": [
  {
   "cell_type": "code",
   "execution_count": 1,
   "metadata": {
    "collapsed": true
   },
   "outputs": [],
   "source": [
    "import itertools\n",
    "import numpy as np\n",
    "import pandas as pd\n",
    "import warnings\n",
    "warnings.filterwarnings(\"ignore\", category=FutureWarning)\n",
    "\n",
    "import tensorflow as tf\n",
    "from tensorflow import keras\n",
    "\n",
    "from matplotlib import pyplot as plt\n",
    "\n",
    "from sklearn.model_selection import train_test_split\n",
    "from sklearn.metrics import accuracy_score, classification_report, confusion_matrix"
   ]
  },
  {
   "cell_type": "code",
   "execution_count": 2,
   "outputs": [],
   "source": [
    "# Load MoveNet Thunder model\n",
    "from script.data import BodyPart"
   ],
   "metadata": {
    "collapsed": false
   }
  },
  {
   "cell_type": "code",
   "execution_count": 3,
   "outputs": [],
   "source": [
    "def load_pose_landmarks(csv_path):\n",
    "  # Load the CSV file\n",
    "  dataframe = pd.read_csv(csv_path)\n",
    "\n",
    "  # Drop the file_name columns as you don't need it during training.\n",
    "  dataframe.drop(columns=['file_name'], inplace=True)\n",
    "\n",
    "  # Extract the list of class names\n",
    "  classes = dataframe.pop('class_name').unique()\n",
    "\n",
    "  # Extract the labels\n",
    "  y = dataframe.pop('class_no')\n",
    "\n",
    "  # Convert the input features and labels into the correct format for training.\n",
    "  X = dataframe.astype('float64')\n",
    "  y = keras.utils.to_categorical(y)\n",
    "\n",
    "  return X, y, classes"
   ],
   "metadata": {
    "collapsed": false
   }
  },
  {
   "cell_type": "code",
   "execution_count": 4,
   "outputs": [],
   "source": [
    "def get_center_point(landmarks, left_bodypart, right_bodypart):\n",
    "  \"\"\"Calculates the center point of the two given landmarks.\"\"\"\n",
    "\n",
    "  left = tf.gather(landmarks, left_bodypart.value, axis=1)\n",
    "  right = tf.gather(landmarks, right_bodypart.value, axis=1)\n",
    "  center = left * 0.5 + right * 0.5\n",
    "  return center\n",
    "\n",
    "\n",
    "def get_pose_size(landmarks, torso_size_multiplier=2.5):\n",
    "  # Hips center\n",
    "  hips_center = get_center_point(landmarks, BodyPart.LEFT_HIP, BodyPart.RIGHT_HIP)\n",
    "\n",
    "  # Shoulders center\n",
    "  shoulders_center = get_center_point(landmarks, BodyPart.LEFT_SHOULDER, BodyPart.RIGHT_SHOULDER)\n",
    "\n",
    "  # Torso size as the minimum body size\n",
    "  torso_size = tf.linalg.norm(shoulders_center - hips_center)\n",
    "\n",
    "  # Pose center\n",
    "  pose_center_new = get_center_point(landmarks, BodyPart.LEFT_HIP, BodyPart.RIGHT_HIP)\n",
    "  pose_center_new = tf.expand_dims(pose_center_new, axis=1)\n",
    "  # Broadcast the pose center to the same size as the landmark vector to perform substraction\n",
    "  pose_center_new = tf.broadcast_to(pose_center_new, [tf.size(landmarks) // (17*2), 17, 2])\n",
    "\n",
    "  # Dist to pose center\n",
    "  d = tf.gather(landmarks - pose_center_new, 0, axis=0, name=\"dist_to_pose_center\")\n",
    "  # Max dist to pose center\n",
    "  max_dist = tf.reduce_max(tf.linalg.norm(d, axis=0))\n",
    "\n",
    "  # Normalize scale\n",
    "  pose_size = tf.maximum(torso_size * torso_size_multiplier, max_dist)\n",
    "\n",
    "  return pose_size\n",
    "\n",
    "\n",
    "def normalize_pose_landmarks(landmarks):\n",
    "  # Move landmarks so that the pose center becomes (0,0)\n",
    "  pose_center = get_center_point(landmarks, BodyPart.LEFT_HIP, BodyPart.RIGHT_HIP)\n",
    "  pose_center = tf.expand_dims(pose_center, axis=1)\n",
    "  # Broadcast the pose center to the same size as the landmark vector to perform substraction\n",
    "  pose_center = tf.broadcast_to(pose_center, [tf.size(landmarks) // (17*2), 17, 2])\n",
    "  landmarks = landmarks - pose_center\n",
    "\n",
    "  # Scale the landmarks to a constant pose size\n",
    "  pose_size = get_pose_size(landmarks)\n",
    "  landmarks /= pose_size\n",
    "\n",
    "  return landmarks\n",
    "\n",
    "\n",
    "def landmarks_to_embedding(landmarks_and_scores):\n",
    "  \"\"\"Converts the input landmarks into a pose embedding.\"\"\"\n",
    "  # Reshape the flat input into a matrix with shape=(17, 3)\n",
    "  reshaped_inputs = keras.layers.Reshape((17, 3))(landmarks_and_scores)\n",
    "\n",
    "  # Normalize landmarks 2D\n",
    "  landmarks = normalize_pose_landmarks(reshaped_inputs[:, :, :2])\n",
    "\n",
    "  # Flatten the normalized landmark coordinates into a vector\n",
    "  embedding = keras.layers.Flatten()(landmarks)\n",
    "\n",
    "  return embedding"
   ],
   "metadata": {
    "collapsed": false
   }
  },
  {
   "cell_type": "code",
   "execution_count": 4,
   "outputs": [],
   "source": [
    "class ClassifierModel(object):\n",
    "    def __init__(self, class_names):\n",
    "        self.model = None\n",
    "        self.class_names = class_names\n",
    "\n",
    "    def build_model(self, model_path=None):\n",
    "        if model_path:\n",
    "            self.model = keras.models.load_model(model_path)\n",
    "        else:\n",
    "            inputs = keras.Input(shape=(51))\n",
    "            embedding = landmarks_to_embedding(inputs)\n",
    "\n",
    "            layer = keras.layers.Dense(128, activation=tf.nn.relu6)(embedding)\n",
    "            layer = keras.layers.Dropout(0.5)(layer)\n",
    "            layer = keras.layers.Dense(64, activation=tf.nn.relu6)(layer)\n",
    "            layer = keras.layers.Dropout(0.5)(layer)\n",
    "            outputs = keras.layers.Dense(len(self.class_names), activation=\"softmax\")(layer)\n",
    "\n",
    "            model = keras.Model(inputs, outputs)\n",
    "            model.compile(optimizer='adam', loss='categorical_crossentropy', metrics=['accuracy'])\n",
    "\n",
    "            self.model = model\n",
    "\n",
    "    def train(self, X_data, y_data, test_size=0.15, monitor=\"val_accuracy\", patience=20, batch_size=16, epochs=200,\n",
    "              cp_path=\"best.weight.hdf5\", save_path=None):\n",
    "        # Split training data (X, y) into (X_train, y_train) and (X_val, y_val)\n",
    "        X_train, X_val, y_train, y_val = train_test_split(X_data, y_data, test_size=test_size)\n",
    "        # Add a checkpoint callback to store the checkpoint that has the highest\n",
    "        # validation accuracy.\n",
    "        checkpoint = keras.callbacks.ModelCheckpoint(cp_path, monitor=monitor, verbose=1, save_best_only=True, mode='max')\n",
    "        early_stopping = keras.callbacks.EarlyStopping(monitor=monitor, patience=patience)\n",
    "\n",
    "        # Start training\n",
    "        his = self.model.fit(X_train, y_train, batch_size=batch_size, epochs=epochs,\n",
    "                                 callbacks=[checkpoint, early_stopping], validation_data=(X_val, y_val))\n",
    "\n",
    "        if save_path:\n",
    "            self.model.save(save_path)\n",
    "\n",
    "        return his\n",
    "\n",
    "    def evaluate(self, X, y):\n",
    "        l, acc = self.model.evaluate(X, y)\n",
    "\n",
    "        return l, acc\n",
    "\n",
    "    def predict(self, X):\n",
    "        pred = self.model.predict(X)\n",
    "        return pred\n",
    "\n",
    "    def save_tflite(self, save_path):\n",
    "        converter = tf.lite.TFLiteConverter.from_keras_model(self.model)\n",
    "        converter.optimizations = [tf.lite.Optimize.DEFAULT]\n",
    "        model = converter.convert()\n",
    "\n",
    "        with open(f'{save_path}/pose_classifier.tflite', 'wb') as f:\n",
    "          f.write(model)\n",
    "        print('Model size: %dKB' % (len(model) / 1024))"
   ],
   "metadata": {
    "collapsed": false
   }
  },
  {
   "cell_type": "code",
   "execution_count": 5,
   "outputs": [],
   "source": [
    "csvs_out_train_path = './data/train_data.csv'\n",
    "csvs_out_test_path = './data/test_data.csv'\n",
    "\n",
    "# Load the train data\n",
    "X, y, class_names = load_pose_landmarks(csvs_out_train_path)\n",
    "# Load the test data\n",
    "X_test, y_test, _ = load_pose_landmarks(csvs_out_test_path)"
   ],
   "metadata": {
    "collapsed": false
   }
  },
  {
   "cell_type": "code",
   "execution_count": 6,
   "outputs": [],
   "source": [
    "classifier = ClassifierModel(class_names)\n",
    "# classifier.build_model()\n",
    "classifier.build_model(\"./model/classifier\")"
   ],
   "metadata": {
    "collapsed": false
   }
  },
  {
   "cell_type": "code",
   "execution_count": 8,
   "outputs": [
    {
     "name": "stdout",
     "output_type": "stream",
     "text": [
      "Epoch 1/200\n",
      " 1/37 [..............................] - ETA: 29s - loss: 1.6135 - accuracy: 0.0625\n",
      "Epoch 1: val_accuracy improved from -inf to 0.54902, saving model to ./model\\weights.best.hdf5\n",
      "37/37 [==============================] - 1s 9ms/step - loss: 1.5144 - accuracy: 0.4377 - val_loss: 1.3581 - val_accuracy: 0.5490\n",
      "Epoch 2/200\n",
      "32/37 [========================>.....] - ETA: 0s - loss: 1.2521 - accuracy: 0.5391\n",
      "Epoch 2: val_accuracy improved from 0.54902 to 0.61765, saving model to ./model\\weights.best.hdf5\n",
      "37/37 [==============================] - 0s 3ms/step - loss: 1.2318 - accuracy: 0.5433 - val_loss: 1.0390 - val_accuracy: 0.6176\n",
      "Epoch 3/200\n",
      "26/37 [====================>.........] - ETA: 0s - loss: 1.0460 - accuracy: 0.5697\n",
      "Epoch 3: val_accuracy improved from 0.61765 to 0.74510, saving model to ./model\\weights.best.hdf5\n",
      "37/37 [==============================] - 0s 3ms/step - loss: 1.0269 - accuracy: 0.5796 - val_loss: 0.8502 - val_accuracy: 0.7451\n",
      "Epoch 4/200\n",
      "27/37 [====================>.........] - ETA: 0s - loss: 0.8772 - accuracy: 0.6389\n",
      "Epoch 4: val_accuracy did not improve from 0.74510\n",
      "37/37 [==============================] - 0s 2ms/step - loss: 0.8765 - accuracy: 0.6384 - val_loss: 0.7237 - val_accuracy: 0.7451\n",
      "Epoch 5/200\n",
      "34/37 [==========================>...] - ETA: 0s - loss: 0.7722 - accuracy: 0.6930\n",
      "Epoch 5: val_accuracy improved from 0.74510 to 0.82353, saving model to ./model\\weights.best.hdf5\n",
      "37/37 [==============================] - 0s 3ms/step - loss: 0.7663 - accuracy: 0.7024 - val_loss: 0.6224 - val_accuracy: 0.8235\n",
      "Epoch 6/200\n",
      "33/37 [=========================>....] - ETA: 0s - loss: 0.6749 - accuracy: 0.7311\n",
      "Epoch 6: val_accuracy did not improve from 0.82353\n",
      "37/37 [==============================] - 0s 2ms/step - loss: 0.6778 - accuracy: 0.7301 - val_loss: 0.5416 - val_accuracy: 0.8137\n",
      "Epoch 7/200\n",
      "28/37 [=====================>........] - ETA: 0s - loss: 0.6571 - accuracy: 0.7545\n",
      "Epoch 7: val_accuracy improved from 0.82353 to 0.86275, saving model to ./model\\weights.best.hdf5\n",
      "37/37 [==============================] - 0s 3ms/step - loss: 0.6535 - accuracy: 0.7509 - val_loss: 0.4770 - val_accuracy: 0.8627\n",
      "Epoch 8/200\n",
      "29/37 [======================>.......] - ETA: 0s - loss: 0.6115 - accuracy: 0.7823\n",
      "Epoch 8: val_accuracy did not improve from 0.86275\n",
      "37/37 [==============================] - 0s 2ms/step - loss: 0.6085 - accuracy: 0.7855 - val_loss: 0.4363 - val_accuracy: 0.8627\n",
      "Epoch 9/200\n",
      "30/37 [=======================>......] - ETA: 0s - loss: 0.5242 - accuracy: 0.8229\n",
      "Epoch 9: val_accuracy improved from 0.86275 to 0.88235, saving model to ./model\\weights.best.hdf5\n",
      "37/37 [==============================] - 0s 3ms/step - loss: 0.5100 - accuracy: 0.8322 - val_loss: 0.3897 - val_accuracy: 0.8824\n",
      "Epoch 10/200\n",
      "30/37 [=======================>......] - ETA: 0s - loss: 0.4898 - accuracy: 0.8375\n",
      "Epoch 10: val_accuracy improved from 0.88235 to 0.95098, saving model to ./model\\weights.best.hdf5\n",
      "37/37 [==============================] - 0s 3ms/step - loss: 0.4944 - accuracy: 0.8356 - val_loss: 0.3371 - val_accuracy: 0.9510\n",
      "Epoch 11/200\n",
      " 1/37 [..............................] - ETA: 0s - loss: 0.4386 - accuracy: 0.8750\n",
      "Epoch 11: val_accuracy did not improve from 0.95098\n",
      "37/37 [==============================] - 0s 2ms/step - loss: 0.4653 - accuracy: 0.8529 - val_loss: 0.3053 - val_accuracy: 0.9510\n",
      "Epoch 12/200\n",
      "36/37 [============================>.] - ETA: 0s - loss: 0.4151 - accuracy: 0.8681\n",
      "Epoch 12: val_accuracy did not improve from 0.95098\n",
      "37/37 [==============================] - 0s 3ms/step - loss: 0.4149 - accuracy: 0.8685 - val_loss: 0.2805 - val_accuracy: 0.9510\n",
      "Epoch 13/200\n",
      "29/37 [======================>.......] - ETA: 0s - loss: 0.4038 - accuracy: 0.8621\n",
      "Epoch 13: val_accuracy did not improve from 0.95098\n",
      "37/37 [==============================] - 0s 2ms/step - loss: 0.3923 - accuracy: 0.8668 - val_loss: 0.2537 - val_accuracy: 0.9510\n",
      "Epoch 14/200\n",
      "24/37 [==================>...........] - ETA: 0s - loss: 0.3637 - accuracy: 0.9089\n",
      "Epoch 14: val_accuracy did not improve from 0.95098\n",
      "37/37 [==============================] - 0s 3ms/step - loss: 0.3599 - accuracy: 0.9031 - val_loss: 0.2299 - val_accuracy: 0.9510\n",
      "Epoch 15/200\n",
      "26/37 [====================>.........] - ETA: 0s - loss: 0.3352 - accuracy: 0.8846\n",
      "Epoch 15: val_accuracy did not improve from 0.95098\n",
      "37/37 [==============================] - 0s 3ms/step - loss: 0.3299 - accuracy: 0.8962 - val_loss: 0.2226 - val_accuracy: 0.9510\n",
      "Epoch 16/200\n",
      "29/37 [======================>.......] - ETA: 0s - loss: 0.3474 - accuracy: 0.8922\n",
      "Epoch 16: val_accuracy did not improve from 0.95098\n",
      "37/37 [==============================] - 0s 2ms/step - loss: 0.3356 - accuracy: 0.8962 - val_loss: 0.2006 - val_accuracy: 0.9510\n",
      "Epoch 17/200\n",
      "32/37 [========================>.....] - ETA: 0s - loss: 0.2946 - accuracy: 0.8984\n",
      "Epoch 17: val_accuracy did not improve from 0.95098\n",
      "37/37 [==============================] - 0s 2ms/step - loss: 0.2898 - accuracy: 0.9048 - val_loss: 0.1837 - val_accuracy: 0.9510\n",
      "Epoch 18/200\n",
      "34/37 [==========================>...] - ETA: 0s - loss: 0.2875 - accuracy: 0.9136\n",
      "Epoch 18: val_accuracy improved from 0.95098 to 0.96078, saving model to ./model\\weights.best.hdf5\n",
      "37/37 [==============================] - 0s 3ms/step - loss: 0.2889 - accuracy: 0.9135 - val_loss: 0.1682 - val_accuracy: 0.9608\n",
      "Epoch 19/200\n",
      "34/37 [==========================>...] - ETA: 0s - loss: 0.2746 - accuracy: 0.9154\n",
      "Epoch 19: val_accuracy did not improve from 0.96078\n",
      "37/37 [==============================] - 0s 2ms/step - loss: 0.2866 - accuracy: 0.9083 - val_loss: 0.1792 - val_accuracy: 0.9510\n",
      "Epoch 20/200\n",
      "30/37 [=======================>......] - ETA: 0s - loss: 0.2704 - accuracy: 0.9208\n",
      "Epoch 20: val_accuracy did not improve from 0.96078\n",
      "37/37 [==============================] - 0s 2ms/step - loss: 0.2675 - accuracy: 0.9221 - val_loss: 0.1595 - val_accuracy: 0.9510\n",
      "Epoch 21/200\n",
      "33/37 [=========================>....] - ETA: 0s - loss: 0.2687 - accuracy: 0.9223\n",
      "Epoch 21: val_accuracy did not improve from 0.96078\n",
      "37/37 [==============================] - 0s 2ms/step - loss: 0.2656 - accuracy: 0.9204 - val_loss: 0.1613 - val_accuracy: 0.9608\n",
      "Epoch 22/200\n",
      "29/37 [======================>.......] - ETA: 0s - loss: 0.2437 - accuracy: 0.9289\n",
      "Epoch 22: val_accuracy did not improve from 0.96078\n",
      "37/37 [==============================] - 0s 2ms/step - loss: 0.2339 - accuracy: 0.9308 - val_loss: 0.1466 - val_accuracy: 0.9510\n",
      "Epoch 23/200\n",
      "34/37 [==========================>...] - ETA: 0s - loss: 0.2261 - accuracy: 0.9467\n",
      "Epoch 23: val_accuracy did not improve from 0.96078\n",
      "37/37 [==============================] - 0s 2ms/step - loss: 0.2265 - accuracy: 0.9481 - val_loss: 0.1410 - val_accuracy: 0.9510\n",
      "Epoch 24/200\n",
      "29/37 [======================>.......] - ETA: 0s - loss: 0.2266 - accuracy: 0.9440\n",
      "Epoch 24: val_accuracy did not improve from 0.96078\n",
      "37/37 [==============================] - 0s 2ms/step - loss: 0.2287 - accuracy: 0.9377 - val_loss: 0.1380 - val_accuracy: 0.9510\n",
      "Epoch 25/200\n",
      "35/37 [===========================>..] - ETA: 0s - loss: 0.2064 - accuracy: 0.9482\n",
      "Epoch 25: val_accuracy did not improve from 0.96078\n",
      "37/37 [==============================] - 0s 2ms/step - loss: 0.2038 - accuracy: 0.9498 - val_loss: 0.1324 - val_accuracy: 0.9510\n",
      "Epoch 26/200\n",
      "36/37 [============================>.] - ETA: 0s - loss: 0.2220 - accuracy: 0.9444\n",
      "Epoch 26: val_accuracy did not improve from 0.96078\n",
      "37/37 [==============================] - 0s 2ms/step - loss: 0.2215 - accuracy: 0.9446 - val_loss: 0.1308 - val_accuracy: 0.9510\n",
      "Epoch 27/200\n",
      "32/37 [========================>.....] - ETA: 0s - loss: 0.1802 - accuracy: 0.9609\n",
      "Epoch 27: val_accuracy did not improve from 0.96078\n",
      "37/37 [==============================] - 0s 3ms/step - loss: 0.1990 - accuracy: 0.9533 - val_loss: 0.1208 - val_accuracy: 0.9608\n",
      "Epoch 28/200\n",
      "31/37 [========================>.....] - ETA: 0s - loss: 0.1551 - accuracy: 0.9597\n",
      "Epoch 28: val_accuracy did not improve from 0.96078\n",
      "37/37 [==============================] - 0s 3ms/step - loss: 0.1625 - accuracy: 0.9550 - val_loss: 0.1148 - val_accuracy: 0.9608\n",
      "Epoch 29/200\n",
      "27/37 [====================>.........] - ETA: 0s - loss: 0.1921 - accuracy: 0.9468\n",
      "Epoch 29: val_accuracy did not improve from 0.96078\n",
      "37/37 [==============================] - 0s 2ms/step - loss: 0.1836 - accuracy: 0.9498 - val_loss: 0.1087 - val_accuracy: 0.9608\n",
      "Epoch 30/200\n",
      "32/37 [========================>.....] - ETA: 0s - loss: 0.1849 - accuracy: 0.9395\n",
      "Epoch 30: val_accuracy did not improve from 0.96078\n",
      "37/37 [==============================] - 0s 3ms/step - loss: 0.1844 - accuracy: 0.9377 - val_loss: 0.1051 - val_accuracy: 0.9608\n",
      "Epoch 31/200\n",
      "34/37 [==========================>...] - ETA: 0s - loss: 0.1741 - accuracy: 0.9412\n",
      "Epoch 31: val_accuracy did not improve from 0.96078\n",
      "37/37 [==============================] - 0s 3ms/step - loss: 0.1778 - accuracy: 0.9377 - val_loss: 0.1075 - val_accuracy: 0.9608\n",
      "Epoch 32/200\n",
      "34/37 [==========================>...] - ETA: 0s - loss: 0.1513 - accuracy: 0.9632\n",
      "Epoch 32: val_accuracy did not improve from 0.96078\n",
      "37/37 [==============================] - 0s 3ms/step - loss: 0.1501 - accuracy: 0.9637 - val_loss: 0.1017 - val_accuracy: 0.9608\n",
      "Epoch 33/200\n",
      " 1/37 [..............................] - ETA: 0s - loss: 0.2064 - accuracy: 0.9375\n",
      "Epoch 33: val_accuracy did not improve from 0.96078\n",
      "37/37 [==============================] - 0s 2ms/step - loss: 0.1821 - accuracy: 0.9533 - val_loss: 0.1030 - val_accuracy: 0.9608\n",
      "Epoch 34/200\n",
      "30/37 [=======================>......] - ETA: 0s - loss: 0.1436 - accuracy: 0.9625\n",
      "Epoch 34: val_accuracy did not improve from 0.96078\n",
      "37/37 [==============================] - 0s 2ms/step - loss: 0.1345 - accuracy: 0.9654 - val_loss: 0.0999 - val_accuracy: 0.9608\n",
      "Epoch 35/200\n",
      "32/37 [========================>.....] - ETA: 0s - loss: 0.1549 - accuracy: 0.9512\n",
      "Epoch 35: val_accuracy did not improve from 0.96078\n",
      "37/37 [==============================] - 0s 2ms/step - loss: 0.1509 - accuracy: 0.9533 - val_loss: 0.0968 - val_accuracy: 0.9608\n",
      "Epoch 36/200\n",
      "25/37 [===================>..........] - ETA: 0s - loss: 0.1152 - accuracy: 0.9725\n",
      "Epoch 36: val_accuracy did not improve from 0.96078\n",
      "37/37 [==============================] - 0s 3ms/step - loss: 0.1239 - accuracy: 0.9706 - val_loss: 0.0928 - val_accuracy: 0.9608\n",
      "Epoch 37/200\n",
      "30/37 [=======================>......] - ETA: 0s - loss: 0.1165 - accuracy: 0.9688\n",
      "Epoch 37: val_accuracy did not improve from 0.96078\n",
      "37/37 [==============================] - 0s 2ms/step - loss: 0.1213 - accuracy: 0.9689 - val_loss: 0.0927 - val_accuracy: 0.9608\n",
      "Epoch 38/200\n",
      "35/37 [===========================>..] - ETA: 0s - loss: 0.1491 - accuracy: 0.9518\n",
      "Epoch 38: val_accuracy did not improve from 0.96078\n",
      "37/37 [==============================] - 0s 2ms/step - loss: 0.1574 - accuracy: 0.9516 - val_loss: 0.0884 - val_accuracy: 0.9608\n"
     ]
    },
    {
     "name": "stderr",
     "output_type": "stream",
     "text": [
      "WARNING:absl:Found untraced functions such as _update_step_xla while saving (showing 1 of 1). These functions will not be directly callable after loading.\n"
     ]
    },
    {
     "name": "stdout",
     "output_type": "stream",
     "text": [
      "INFO:tensorflow:Assets written to: ./model/classifier.pb\\assets\n"
     ]
    },
    {
     "name": "stderr",
     "output_type": "stream",
     "text": [
      "INFO:tensorflow:Assets written to: ./model/classifier.pb\\assets\n"
     ]
    }
   ],
   "source": [
    "# Start training\n",
    "history = classifier.train(X, y, cp_path=\"./model/weights.best.hdf5\", save_path=\"./model/classifier/\")"
   ],
   "metadata": {
    "collapsed": false
   }
  },
  {
   "cell_type": "code",
   "execution_count": 9,
   "outputs": [
    {
     "data": {
      "text/plain": "<Figure size 640x480 with 1 Axes>",
      "image/png": "[encoded data removed]"
     },
     "metadata": {},
     "output_type": "display_data"
    }
   ],
   "source": [
    "# Visualize the training history to see whether you're overfitting.\n",
    "plt.plot(history.history['accuracy'])\n",
    "plt.plot(history.history['val_accuracy'])\n",
    "plt.title('Model accuracy')\n",
    "plt.ylabel('accuracy')\n",
    "plt.xlabel('epoch')\n",
    "plt.legend(['TRAIN', 'VAL'], loc='lower right')\n",
    "plt.show()"
   ],
   "metadata": {
    "collapsed": false
   }
  },
  {
   "cell_type": "code",
   "execution_count": 7,
   "outputs": [
    {
     "name": "stdout",
     "output_type": "stream",
     "text": [
      "14/14 [==============================] - 0s 2ms/step - loss: 0.0535 - accuracy: 0.9953\n"
     ]
    }
   ],
   "source": [
    "# Evaluate the model using the TEST dataset\n",
    "loss, accuracy = classifier.evaluate(X_test, y_test)"
   ],
   "metadata": {
    "collapsed": false
   }
  },
  {
   "cell_type": "code",
   "execution_count": 8,
   "outputs": [
    {
     "name": "stdout",
     "output_type": "stream",
     "text": [
      "14/14 [==============================] - 0s 2ms/step\n",
      "Confusion matrix, without normalization\n",
      "\n",
      "Classification Report:\n",
      "               precision    recall  f1-score   support\n",
      "\n",
      "       chair       1.00      1.00      1.00        84\n",
      "       cobra       0.98      1.00      0.99        93\n",
      "         dog       1.00      1.00      1.00        84\n",
      "        tree       1.00      1.00      1.00        96\n",
      "     warrior       1.00      0.97      0.99        68\n",
      "\n",
      "    accuracy                           1.00       425\n",
      "   macro avg       1.00      0.99      0.99       425\n",
      "weighted avg       1.00      1.00      1.00       425\n",
      "\n"
     ]
    },
    {
     "data": {
      "text/plain": "<Figure size 640x480 with 2 Axes>",
      "image/png": "[encoded data removed]"
     },
     "metadata": {},
     "output_type": "display_data"
    }
   ],
   "source": [
    "def plot_confusion_matrix(cm, classes, normalize=False, title='Confusion matrix', cmap=plt.cm.Blues):\n",
    "  \"\"\"Plots the confusion matrix.\"\"\"\n",
    "  if normalize:\n",
    "    cm = cm.astype('float') / cm.sum(axis=1)[:, np.newaxis]\n",
    "    print(\"Normalized confusion matrix\")\n",
    "  else:\n",
    "    print('Confusion matrix, without normalization')\n",
    "\n",
    "  plt.imshow(cm, interpolation='nearest', cmap=cmap)\n",
    "  plt.title(title)\n",
    "  plt.colorbar()\n",
    "  tick_marks = np.arange(len(classes))\n",
    "  plt.xticks(tick_marks, classes, rotation=55)\n",
    "  plt.yticks(tick_marks, classes)\n",
    "  fmt = '.2f' if normalize else 'd'\n",
    "  thresh = cm.max() / 2.\n",
    "  for i, j in itertools.product(range(cm.shape[0]), range(cm.shape[1])):\n",
    "    plt.text(j, i, format(cm[i, j], fmt), horizontalalignment=\"center\", color=\"white\" if cm[i, j] > thresh else \"black\")\n",
    "\n",
    "  plt.ylabel('True label')\n",
    "  plt.xlabel('Predicted label')\n",
    "  plt.tight_layout()\n",
    "\n",
    "# Classify pose in the TEST dataset using the trained model\n",
    "y_pred = classifier.predict(X_test)\n",
    "\n",
    "# Convert the prediction result to class name\n",
    "y_pred_label = [class_names[i] for i in np.argmax(y_pred, axis=1)]\n",
    "y_true_label = [class_names[i] for i in np.argmax(y_test, axis=1)]\n",
    "\n",
    "# Plot the confusion matrix\n",
    "cm = confusion_matrix(np.argmax(y_test, axis=1), np.argmax(y_pred, axis=1))\n",
    "plot_confusion_matrix(cm, class_names, title ='Confusion Matrix of Pose Classification Model')\n",
    "\n",
    "# Print the classification report\n",
    "print('\\nClassification Report:\\n', classification_report(y_true_label, y_pred_label))"
   ],
   "metadata": {
    "collapsed": false
   }
  },
  {
   "cell_type": "code",
   "execution_count": 11,
   "outputs": [
    {
     "name": "stderr",
     "output_type": "stream",
     "text": [
      "WARNING:absl:Found untraced functions such as _update_step_xla while saving (showing 1 of 1). These functions will not be directly callable after loading.\n"
     ]
    },
    {
     "name": "stdout",
     "output_type": "stream",
     "text": [
      "INFO:tensorflow:Assets written to: C:\\Users\\17214\\AppData\\Local\\Temp\\tmpyad9a44k\\assets\n"
     ]
    },
    {
     "name": "stderr",
     "output_type": "stream",
     "text": [
      "INFO:tensorflow:Assets written to: C:\\Users\\17214\\AppData\\Local\\Temp\\tmpyad9a44k\\assets\n"
     ]
    },
    {
     "name": "stdout",
     "output_type": "stream",
     "text": [
      "Model size: 26KB\n"
     ]
    }
   ],
   "source": [
    "classifier.save_tflite(\"./model/\")"
   ],
   "metadata": {
    "collapsed": false
   }
  },
  {
   "cell_type": "code",
   "execution_count": null,
   "outputs": [],
   "source": [],
   "metadata": {
    "collapsed": false
   }
  }
 ],
 "metadata": {
  "kernelspec": {
   "display_name": "Python 3",
   "language": "python",
   "name": "python3"
  },
  "language_info": {
   "codemirror_mode": {
    "name": "ipython",
    "version": 2
   },
   "file_extension": ".py",
   "mimetype": "text/x-python",
   "name": "python",
   "nbconvert_exporter": "python",
   "pygments_lexer": "ipython2",
   "version": "2.7.6"
  }
 },
 "nbformat": 4,
 "nbformat_minor": 0
}
